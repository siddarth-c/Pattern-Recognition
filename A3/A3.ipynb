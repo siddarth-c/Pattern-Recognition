{
  "nbformat": 4,
  "nbformat_minor": 0,
  "metadata": {
    "colab": {
      "name": "PR Assignment 3.ipynb",
      "provenance": [],
      "collapsed_sections": [],
      "toc_visible": true,
      "mount_file_id": "1ieayFLoX9YXivabAXHVKm-O-HkeL7zyZ",
      "authorship_tag": "ABX9TyPqU4UKmIWbimaTgs9RsuoR"
    },
    "kernelspec": {
      "name": "python3",
      "display_name": "Python 3"
    },
    "language_info": {
      "name": "python"
    }
  },
  "cells": [
    {
      "cell_type": "markdown",
      "metadata": {
        "id": "G86o_wAHT0xF"
      },
      "source": [
        "# **Pattern Recognition Assignment 3**"
      ]
    },
    {
      "cell_type": "code",
      "metadata": {
        "id": "HTdwlSX3TMp1"
      },
      "source": [
        "import pandas as pd\n",
        "import numpy as np\n",
        "\n",
        "from matplotlib import pyplot as plt"
      ],
      "execution_count": 1,
      "outputs": []
    },
    {
      "cell_type": "markdown",
      "metadata": {
        "id": "RRpbNpw_T71j"
      },
      "source": [
        "## Question 1"
      ]
    },
    {
      "cell_type": "code",
      "metadata": {
        "colab": {
          "base_uri": "https://localhost:8080/",
          "height": 208
        },
        "id": "X74w2GC_TtEb",
        "outputId": "1597dac3-2a94-4212-8708-b266e7406571"
      },
      "source": [
        "df = pd.read_csv('/content/drive/MyDrive/PR/gender_feature_vectors.csv')\n",
        "df.head(3)"
      ],
      "execution_count": 2,
      "outputs": [
        {
          "output_type": "execute_result",
          "data": {
            "text/html": [
              "<div>\n",
              "<style scoped>\n",
              "    .dataframe tbody tr th:only-of-type {\n",
              "        vertical-align: middle;\n",
              "    }\n",
              "\n",
              "    .dataframe tbody tr th {\n",
              "        vertical-align: top;\n",
              "    }\n",
              "\n",
              "    .dataframe thead th {\n",
              "        text-align: right;\n",
              "    }\n",
              "</style>\n",
              "<table border=\"1\" class=\"dataframe\">\n",
              "  <thead>\n",
              "    <tr style=\"text-align: right;\">\n",
              "      <th></th>\n",
              "      <th>Unnamed: 0</th>\n",
              "      <th>Unnamed: 1</th>\n",
              "      <th>0</th>\n",
              "      <th>1</th>\n",
              "      <th>2</th>\n",
              "      <th>3</th>\n",
              "      <th>4</th>\n",
              "      <th>5</th>\n",
              "      <th>6</th>\n",
              "      <th>7</th>\n",
              "      <th>8</th>\n",
              "      <th>9</th>\n",
              "      <th>10</th>\n",
              "      <th>11</th>\n",
              "      <th>12</th>\n",
              "      <th>13</th>\n",
              "      <th>14</th>\n",
              "      <th>15</th>\n",
              "      <th>16</th>\n",
              "      <th>17</th>\n",
              "      <th>18</th>\n",
              "      <th>19</th>\n",
              "      <th>20</th>\n",
              "      <th>21</th>\n",
              "      <th>22</th>\n",
              "      <th>23</th>\n",
              "      <th>24</th>\n",
              "      <th>25</th>\n",
              "      <th>26</th>\n",
              "      <th>27</th>\n",
              "      <th>28</th>\n",
              "      <th>29</th>\n",
              "      <th>30</th>\n",
              "      <th>31</th>\n",
              "      <th>32</th>\n",
              "      <th>33</th>\n",
              "      <th>34</th>\n",
              "      <th>35</th>\n",
              "      <th>36</th>\n",
              "      <th>37</th>\n",
              "      <th>...</th>\n",
              "      <th>88</th>\n",
              "      <th>89</th>\n",
              "      <th>90</th>\n",
              "      <th>91</th>\n",
              "      <th>92</th>\n",
              "      <th>93</th>\n",
              "      <th>94</th>\n",
              "      <th>95</th>\n",
              "      <th>96</th>\n",
              "      <th>97</th>\n",
              "      <th>98</th>\n",
              "      <th>99</th>\n",
              "      <th>100</th>\n",
              "      <th>101</th>\n",
              "      <th>102</th>\n",
              "      <th>103</th>\n",
              "      <th>104</th>\n",
              "      <th>105</th>\n",
              "      <th>106</th>\n",
              "      <th>107</th>\n",
              "      <th>108</th>\n",
              "      <th>109</th>\n",
              "      <th>110</th>\n",
              "      <th>111</th>\n",
              "      <th>112</th>\n",
              "      <th>113</th>\n",
              "      <th>114</th>\n",
              "      <th>115</th>\n",
              "      <th>116</th>\n",
              "      <th>117</th>\n",
              "      <th>118</th>\n",
              "      <th>119</th>\n",
              "      <th>120</th>\n",
              "      <th>121</th>\n",
              "      <th>122</th>\n",
              "      <th>123</th>\n",
              "      <th>124</th>\n",
              "      <th>125</th>\n",
              "      <th>126</th>\n",
              "      <th>127</th>\n",
              "    </tr>\n",
              "  </thead>\n",
              "  <tbody>\n",
              "    <tr>\n",
              "      <th>0</th>\n",
              "      <td>1</td>\n",
              "      <td>male</td>\n",
              "      <td>-0.066420</td>\n",
              "      <td>0.151611</td>\n",
              "      <td>0.027740</td>\n",
              "      <td>0.052771</td>\n",
              "      <td>-0.066105</td>\n",
              "      <td>-0.041232</td>\n",
              "      <td>-0.002637</td>\n",
              "      <td>-0.158467</td>\n",
              "      <td>0.130467</td>\n",
              "      <td>-0.044872</td>\n",
              "      <td>0.272529</td>\n",
              "      <td>-0.107907</td>\n",
              "      <td>-0.190014</td>\n",
              "      <td>-0.145586</td>\n",
              "      <td>-0.012682</td>\n",
              "      <td>0.154819</td>\n",
              "      <td>-0.241271</td>\n",
              "      <td>-0.162936</td>\n",
              "      <td>-0.120377</td>\n",
              "      <td>-0.047154</td>\n",
              "      <td>-0.004024</td>\n",
              "      <td>0.010867</td>\n",
              "      <td>0.013803</td>\n",
              "      <td>0.033862</td>\n",
              "      <td>-0.165088</td>\n",
              "      <td>-0.356740</td>\n",
              "      <td>-0.104970</td>\n",
              "      <td>-0.089917</td>\n",
              "      <td>0.163656</td>\n",
              "      <td>-0.138332</td>\n",
              "      <td>0.011188</td>\n",
              "      <td>0.005595</td>\n",
              "      <td>-0.144617</td>\n",
              "      <td>-0.070563</td>\n",
              "      <td>0.089040</td>\n",
              "      <td>0.042198</td>\n",
              "      <td>-0.013146</td>\n",
              "      <td>-0.088541</td>\n",
              "      <td>...</td>\n",
              "      <td>0.176488</td>\n",
              "      <td>0.023528</td>\n",
              "      <td>-0.042136</td>\n",
              "      <td>0.146026</td>\n",
              "      <td>-0.060144</td>\n",
              "      <td>-0.045779</td>\n",
              "      <td>0.005116</td>\n",
              "      <td>-0.040269</td>\n",
              "      <td>-0.146532</td>\n",
              "      <td>0.020204</td>\n",
              "      <td>-0.071422</td>\n",
              "      <td>-0.070934</td>\n",
              "      <td>0.039376</td>\n",
              "      <td>-0.073057</td>\n",
              "      <td>0.013110</td>\n",
              "      <td>0.073191</td>\n",
              "      <td>-0.174984</td>\n",
              "      <td>0.112673</td>\n",
              "      <td>0.050317</td>\n",
              "      <td>-0.087701</td>\n",
              "      <td>-0.033930</td>\n",
              "      <td>0.018559</td>\n",
              "      <td>-0.087492</td>\n",
              "      <td>0.076850</td>\n",
              "      <td>0.160139</td>\n",
              "      <td>-0.359518</td>\n",
              "      <td>0.225189</td>\n",
              "      <td>0.175419</td>\n",
              "      <td>-0.003953</td>\n",
              "      <td>0.142986</td>\n",
              "      <td>0.025989</td>\n",
              "      <td>-0.001087</td>\n",
              "      <td>0.027260</td>\n",
              "      <td>-0.046754</td>\n",
              "      <td>-0.118619</td>\n",
              "      <td>-0.163774</td>\n",
              "      <td>-0.000590</td>\n",
              "      <td>-0.076400</td>\n",
              "      <td>0.107497</td>\n",
              "      <td>0.001567</td>\n",
              "    </tr>\n",
              "    <tr>\n",
              "      <th>1</th>\n",
              "      <td>2</td>\n",
              "      <td>male</td>\n",
              "      <td>-0.030614</td>\n",
              "      <td>0.049667</td>\n",
              "      <td>0.008084</td>\n",
              "      <td>-0.050324</td>\n",
              "      <td>0.007649</td>\n",
              "      <td>-0.063818</td>\n",
              "      <td>-0.019530</td>\n",
              "      <td>-0.119905</td>\n",
              "      <td>0.186553</td>\n",
              "      <td>-0.044821</td>\n",
              "      <td>0.271853</td>\n",
              "      <td>-0.041583</td>\n",
              "      <td>-0.252784</td>\n",
              "      <td>-0.117582</td>\n",
              "      <td>-0.040385</td>\n",
              "      <td>0.112987</td>\n",
              "      <td>-0.199148</td>\n",
              "      <td>-0.059140</td>\n",
              "      <td>-0.138428</td>\n",
              "      <td>-0.128424</td>\n",
              "      <td>0.139366</td>\n",
              "      <td>0.032024</td>\n",
              "      <td>0.092371</td>\n",
              "      <td>0.043215</td>\n",
              "      <td>-0.143541</td>\n",
              "      <td>-0.271580</td>\n",
              "      <td>-0.007330</td>\n",
              "      <td>-0.176620</td>\n",
              "      <td>0.074239</td>\n",
              "      <td>-0.121689</td>\n",
              "      <td>0.007702</td>\n",
              "      <td>0.039026</td>\n",
              "      <td>-0.212572</td>\n",
              "      <td>-0.110950</td>\n",
              "      <td>0.037608</td>\n",
              "      <td>0.048441</td>\n",
              "      <td>-0.049306</td>\n",
              "      <td>-0.044366</td>\n",
              "      <td>...</td>\n",
              "      <td>0.068932</td>\n",
              "      <td>-0.057217</td>\n",
              "      <td>-0.111655</td>\n",
              "      <td>0.211533</td>\n",
              "      <td>-0.086261</td>\n",
              "      <td>0.087350</td>\n",
              "      <td>0.046462</td>\n",
              "      <td>0.012710</td>\n",
              "      <td>-0.140843</td>\n",
              "      <td>-0.009904</td>\n",
              "      <td>-0.077447</td>\n",
              "      <td>-0.016317</td>\n",
              "      <td>0.019141</td>\n",
              "      <td>-0.092818</td>\n",
              "      <td>0.007209</td>\n",
              "      <td>0.017404</td>\n",
              "      <td>-0.177952</td>\n",
              "      <td>0.121269</td>\n",
              "      <td>-0.034220</td>\n",
              "      <td>-0.007996</td>\n",
              "      <td>-0.047971</td>\n",
              "      <td>-0.019876</td>\n",
              "      <td>-0.088064</td>\n",
              "      <td>0.071553</td>\n",
              "      <td>0.130182</td>\n",
              "      <td>-0.311870</td>\n",
              "      <td>0.315533</td>\n",
              "      <td>0.231109</td>\n",
              "      <td>-0.002901</td>\n",
              "      <td>0.161646</td>\n",
              "      <td>0.044229</td>\n",
              "      <td>-0.023900</td>\n",
              "      <td>-0.028108</td>\n",
              "      <td>0.040618</td>\n",
              "      <td>-0.146579</td>\n",
              "      <td>-0.141244</td>\n",
              "      <td>0.016162</td>\n",
              "      <td>0.017638</td>\n",
              "      <td>0.080610</td>\n",
              "      <td>-0.015930</td>\n",
              "    </tr>\n",
              "    <tr>\n",
              "      <th>2</th>\n",
              "      <td>3</td>\n",
              "      <td>male</td>\n",
              "      <td>-0.096178</td>\n",
              "      <td>0.061127</td>\n",
              "      <td>0.035326</td>\n",
              "      <td>-0.035388</td>\n",
              "      <td>-0.090728</td>\n",
              "      <td>-0.018634</td>\n",
              "      <td>-0.024315</td>\n",
              "      <td>-0.139786</td>\n",
              "      <td>0.052211</td>\n",
              "      <td>-0.052085</td>\n",
              "      <td>0.248798</td>\n",
              "      <td>-0.023033</td>\n",
              "      <td>-0.284685</td>\n",
              "      <td>-0.207826</td>\n",
              "      <td>0.078375</td>\n",
              "      <td>0.110781</td>\n",
              "      <td>-0.099561</td>\n",
              "      <td>-0.159526</td>\n",
              "      <td>-0.156689</td>\n",
              "      <td>-0.046377</td>\n",
              "      <td>-0.066865</td>\n",
              "      <td>-0.016259</td>\n",
              "      <td>0.119524</td>\n",
              "      <td>-0.036528</td>\n",
              "      <td>-0.200072</td>\n",
              "      <td>-0.347999</td>\n",
              "      <td>-0.092376</td>\n",
              "      <td>-0.110221</td>\n",
              "      <td>0.003830</td>\n",
              "      <td>-0.072553</td>\n",
              "      <td>-0.037326</td>\n",
              "      <td>0.049584</td>\n",
              "      <td>-0.241518</td>\n",
              "      <td>-0.144820</td>\n",
              "      <td>0.016032</td>\n",
              "      <td>0.116784</td>\n",
              "      <td>-0.058099</td>\n",
              "      <td>-0.026928</td>\n",
              "      <td>...</td>\n",
              "      <td>0.139447</td>\n",
              "      <td>-0.073286</td>\n",
              "      <td>-0.028742</td>\n",
              "      <td>0.176206</td>\n",
              "      <td>0.000778</td>\n",
              "      <td>0.061516</td>\n",
              "      <td>0.151425</td>\n",
              "      <td>0.097024</td>\n",
              "      <td>-0.069615</td>\n",
              "      <td>-0.021548</td>\n",
              "      <td>-0.135799</td>\n",
              "      <td>0.083675</td>\n",
              "      <td>0.152181</td>\n",
              "      <td>-0.062115</td>\n",
              "      <td>0.024492</td>\n",
              "      <td>0.094129</td>\n",
              "      <td>-0.092504</td>\n",
              "      <td>0.125004</td>\n",
              "      <td>-0.017716</td>\n",
              "      <td>-0.031443</td>\n",
              "      <td>0.050664</td>\n",
              "      <td>-0.127573</td>\n",
              "      <td>-0.048483</td>\n",
              "      <td>-0.116371</td>\n",
              "      <td>0.103385</td>\n",
              "      <td>-0.245697</td>\n",
              "      <td>0.202906</td>\n",
              "      <td>0.183545</td>\n",
              "      <td>-0.075050</td>\n",
              "      <td>0.141646</td>\n",
              "      <td>0.111141</td>\n",
              "      <td>0.059436</td>\n",
              "      <td>-0.029222</td>\n",
              "      <td>0.042115</td>\n",
              "      <td>-0.222173</td>\n",
              "      <td>-0.116908</td>\n",
              "      <td>0.093428</td>\n",
              "      <td>0.017391</td>\n",
              "      <td>0.057652</td>\n",
              "      <td>0.086116</td>\n",
              "    </tr>\n",
              "  </tbody>\n",
              "</table>\n",
              "<p>3 rows × 130 columns</p>\n",
              "</div>"
            ],
            "text/plain": [
              "   Unnamed: 0 Unnamed: 1         0  ...       125       126       127\n",
              "0           1       male -0.066420  ... -0.076400  0.107497  0.001567\n",
              "1           2       male -0.030614  ...  0.017638  0.080610 -0.015930\n",
              "2           3       male -0.096178  ...  0.017391  0.057652  0.086116\n",
              "\n",
              "[3 rows x 130 columns]"
            ]
          },
          "metadata": {
            "tags": []
          },
          "execution_count": 2
        }
      ]
    },
    {
      "cell_type": "code",
      "metadata": {
        "id": "Gtic5rjuTzQT",
        "colab": {
          "base_uri": "https://localhost:8080/"
        },
        "outputId": "24ca89c1-977a-47b9-fb95-9545bbcdcca3"
      },
      "source": [
        "# Pre-process dataframe into numpy array\n",
        "\n",
        "df1 = df.drop(['Unnamed: 0', 'Unnamed: 1'], axis = 1)\n",
        "X = np.array(df1)\n",
        "\n",
        "print(X.shape)"
      ],
      "execution_count": 3,
      "outputs": [
        {
          "output_type": "stream",
          "text": [
            "(800, 128)\n"
          ],
          "name": "stdout"
        }
      ]
    },
    {
      "cell_type": "code",
      "metadata": {
        "id": "0_FthCLeiiNK"
      },
      "source": [
        "# Function which returns the principal components of 95% variance, given the input features\n",
        "\n",
        "def PCA(X):\n",
        "\n",
        "    mean = np.average(X, axis = 0)\n",
        "\n",
        "    # Covariance matrix\n",
        "    Z = (X - mean) /  (np.max(X, axis = 0) - np.min(X, axis = 0))\n",
        "    cov_mat = np.dot(Z.T, Z)\n",
        "\n",
        "    # Eigen Values and vectors\n",
        "    e_val, e_vec = np.linalg.eigh(cov_mat)\n",
        "    print('Eigen value shape :', e_val.shape,'Eigen vector shape :', e_vec.shape)\n",
        "\n",
        "    # Sort eigen values in descending order\n",
        "    sorted_e_val = np.flip(np.sort(e_val))\n",
        "    sorted_e_vec = e_vec.copy()\n",
        "    dummy = 0\n",
        "\n",
        "    # Re-arrange columns of eigen vectors accordingly\n",
        "    for val in sorted_e_val:\n",
        "        ind = np.argmax(e_val == val * 1)\n",
        "        sorted_e_vec[:,dummy] = e_vec[:,ind]\n",
        "        dummy +=1\n",
        "\n",
        "    # Select PCs which contribute to 95% of the total variance\n",
        "    e_val_sum = np.sum(sorted_e_val)\n",
        "    thresh = e_val_sum * 0.95\n",
        "\n",
        "    dummy_sum = 0\n",
        "    d_dash = 0\n",
        "\n",
        "    while dummy_sum < thresh:\n",
        "        dummy_sum += sorted_e_val[d_dash]\n",
        "        d_dash += 1\n",
        "\n",
        "    print('New axis count :', d_dash)    \n",
        "\n",
        "    plt.figure(figsize = (55, 13))\n",
        "    plt.bar([str(i + 1) for i in range(d_dash)], (np.sort(e_val))[-d_dash:])\n",
        "    plt.title('Eigen Values(E_V) of top Principal Components')\n",
        "    plt.show()\n",
        "\n",
        "    Z_star = np.dot(Z, sorted_e_vec)\n",
        "\n",
        "    return Z_star[:,:d_dash]"
      ],
      "execution_count": 4,
      "outputs": []
    },
    {
      "cell_type": "code",
      "metadata": {
        "id": "m_8VRuR3ZDQQ",
        "colab": {
          "base_uri": "https://localhost:8080/",
          "height": 414
        },
        "outputId": "5bc20d46-771e-4b9e-a3cb-433ae3e27df4"
      },
      "source": [
        "PC_X = PCA(X)"
      ],
      "execution_count": 5,
      "outputs": [
        {
          "output_type": "stream",
          "text": [
            "Eigen value shape : (128,) Eigen vector shape : (128, 128)\n",
            "New axis count : 57\n"
          ],
          "name": "stdout"
        },
        {
          "output_type": "display_data",
          "data": {
            "image/png": "[encoded data removed]",
            "text/plain": [
              "<Figure size 3960x936 with 1 Axes>"
            ]
          },
          "metadata": {
            "tags": [],
            "needs_background": "light"
          }
        }
      ]
    },
    {
      "cell_type": "code",
      "metadata": {
        "id": "PB4Qsh5ErvYB"
      },
      "source": [
        "# Split into 2 classes (male and female)\n",
        "class1 = PC_X[:len(df.loc[df['Unnamed: 1'] == 'male'])]\n",
        "class2 = PC_X[len(df.loc[df['Unnamed: 1'] == 'male']):]"
      ],
      "execution_count": 6,
      "outputs": []
    },
    {
      "cell_type": "code",
      "metadata": {
        "id": "phCD4hdvwWEI"
      },
      "source": [
        "# Train - test split \n",
        "train1 = class1[10:]\n",
        "test1 = class1[:10]\n",
        "\n",
        "train2 = class2[10:]\n",
        "test2 = class2[:10]"
      ],
      "execution_count": 7,
      "outputs": []
    },
    {
      "cell_type": "code",
      "metadata": {
        "colab": {
          "base_uri": "https://localhost:8080/",
          "height": 374
        },
        "id": "lA3MGip2xSGe",
        "outputId": "17630614-8f16-450d-cacd-e2c325981493"
      },
      "source": [
        "plt.figure(figsize= (6, 6))\n",
        "\n",
        "plt.scatter(train1[:,0], train1[:,1])\n",
        "plt.scatter(train2[:,0], train2[:,1])\n",
        "\n",
        "plt.scatter(test2[:,0], test2[:,1])\n",
        "plt.scatter(test1[:,0], test1[:,1])\n",
        "\n",
        "plt.legend(['train1', 'train2', 'test2', 'test1'])\n",
        "plt.show()"
      ],
      "execution_count": 8,
      "outputs": [
        {
          "output_type": "display_data",
          "data": {
            "image/png": "[encoded data removed]",
            "text/plain": [
              "<Figure size 432x432 with 1 Axes>"
            ]
          },
          "metadata": {
            "tags": [],
            "needs_background": "light"
          }
        }
      ]
    },
    {
      "cell_type": "code",
      "metadata": {
        "colab": {
          "base_uri": "https://localhost:8080/"
        },
        "id": "XocRan6Rv7Dk",
        "outputId": "ec144781-6a6d-4050-bc5d-dba93efd7ccc"
      },
      "source": [
        "# square root of sum of square of distances\n",
        "\n",
        "print('Predictions for the male test points:\\n')\n",
        "\n",
        "q1_pred_test1 = []\n",
        "\n",
        "for samp in test1:\n",
        "\n",
        "    q1_pred_test1.append(np.sqrt(np.sum(np.square(train1 - samp))) < np.sqrt(np.sum(np.square(train2 - samp))))\n",
        "    print('The predition is', np.sqrt(np.sum(np.square(train1 - samp))) < np.sqrt(np.sum(np.square(train2 - samp))))\n",
        "\n",
        "q1_pred_test1 = np.stack(q1_pred_test1) * 1\n",
        "\n",
        "print('\\n-------------------')\n",
        "print('\\nPredictions for the female test points:\\n')\n",
        "\n",
        "q1_pred_test2 = []\n",
        "\n",
        "for samp in test2:\n",
        "    \n",
        "    q1_pred_test2.append(np.sqrt(np.sum(np.square(train1 - samp))) > np.sqrt(np.sum(np.square(train2 - samp))))\n",
        "    print('The predition is', np.sqrt(np.sum(np.square(train1 - samp))) > np.sqrt(np.sum(np.square(train2 - samp))))\n",
        "\n",
        "q1_pred_test2 = np.stack(q1_pred_test2) * 1\n",
        "\n",
        "q1_indices_one = q1_pred_test2 == 1\n",
        "q1_indices_zero = q1_pred_test2 == 0\n",
        "q1_pred_test2[q1_indices_one] = 0\n",
        "q1_pred_test2[q1_indices_zero] = 1\n"
      ],
      "execution_count": 9,
      "outputs": [
        {
          "output_type": "stream",
          "text": [
            "Predictions for the male test points:\n",
            "\n",
            "The predition is True\n",
            "The predition is True\n",
            "The predition is True\n",
            "The predition is True\n",
            "The predition is True\n",
            "The predition is True\n",
            "The predition is True\n",
            "The predition is False\n",
            "The predition is True\n",
            "The predition is True\n",
            "\n",
            "-------------------\n",
            "\n",
            "Predictions for the female test points:\n",
            "\n",
            "The predition is False\n",
            "The predition is False\n",
            "The predition is True\n",
            "The predition is True\n",
            "The predition is True\n",
            "The predition is True\n",
            "The predition is True\n",
            "The predition is True\n",
            "The predition is True\n",
            "The predition is True\n"
          ],
          "name": "stdout"
        }
      ]
    },
    {
      "cell_type": "markdown",
      "metadata": {
        "id": "t4ty6iLSXdTg"
      },
      "source": [
        "----------------------------------------------------------------------------------------------------------------------------------------"
      ]
    },
    {
      "cell_type": "markdown",
      "metadata": {
        "id": "HZT5_9GPXrFM"
      },
      "source": [
        "## Question 2"
      ]
    },
    {
      "cell_type": "code",
      "metadata": {
        "colab": {
          "base_uri": "https://localhost:8080/"
        },
        "id": "FBUzHIXlXf7m",
        "outputId": "b2a2f5e5-2673-49c5-9e25-1b5c7ce9210b"
      },
      "source": [
        "class1 = X[:len(df.loc[df['Unnamed: 1'] == 'male'])]\n",
        "class2 = X[len(df.loc[df['Unnamed: 1'] == 'male']):]\n",
        "\n",
        "X0 = class1[10:]\n",
        "test0 = class1[:10]\n",
        "\n",
        "X1 = class2[10:]\n",
        "test1 = class2[:10]\n",
        "\n",
        "X0X1 = np.row_stack((X0, X1))\n",
        "\n",
        "print('Input shape of class male :', X0.shape, '\\nInput shape of class female :', X1.shape)"
      ],
      "execution_count": 10,
      "outputs": [
        {
          "output_type": "stream",
          "text": [
            "Input shape of class male : (389, 128) \n",
            "Input shape of class female : (391, 128)\n"
          ],
          "name": "stdout"
        }
      ]
    },
    {
      "cell_type": "code",
      "metadata": {
        "id": "Bimmxdv3kiTc"
      },
      "source": [
        "def LDA(X0X1, X0, X1, d_dash):\n",
        "\n",
        "    mean0 = np.average(X0, axis = 0)\n",
        "    mean1 = np.average(X1, axis = 0)\n",
        "\n",
        "    # Within class scatter matrix\n",
        "\n",
        "    Sw = np.zeros((len(mean0), len(mean0)))\n",
        "\n",
        "    for row in X0:\n",
        "        subbed = (row - mean0).reshape((len(mean0), 1))\n",
        "        dotted = np.dot(subbed, subbed.T)\n",
        "        Sw += dotted    \n",
        "\n",
        "    for row in X1:\n",
        "        subbed = (row - mean1).reshape((len(mean1), 1))\n",
        "        dotted = np.dot(subbed, subbed.T)\n",
        "        Sw += dotted    \n",
        "\n",
        "\n",
        "    # Between class scatter matrix\n",
        "\n",
        "    Sb = np.zeros((len(mean0), len(mean0)))\n",
        "    subbed = (mean0 - np.average(X0X1, axis = 0)).reshape((len(mean0), 1))\n",
        "    Sb += len(X0) * np.dot(subbed, subbed.T)\n",
        "\n",
        "    subbed = (mean1 - np.average(X0X1, axis = 0)).reshape((len(mean1), 1))\n",
        "    Sb += len(X1) * np.dot(subbed, subbed.T)\n",
        "\n",
        "\n",
        "    # Eigen Values and Vectors\n",
        "\n",
        "    e_val, e_vec = np.linalg.eigh(np.dot(np.linalg.inv(Sw), Sb))\n",
        "\n",
        "    sorted_e_val = np.flip(np.sort(e_val))\n",
        "    sorted_e_vec = e_vec.copy()\n",
        "\n",
        "\n",
        "    for dummy, val in enumerate(sorted_e_val):\n",
        "\n",
        "        ind = np.argmax(e_val == val * 1)\n",
        "        sorted_e_vec[:,dummy] = e_vec[:,ind]\n",
        "\n",
        "    new_feat = np.dot(X0X1, sorted_e_vec)\n",
        "\n",
        "    return new_feat[:,:d_dash], sorted_e_vec"
      ],
      "execution_count": 11,
      "outputs": []
    },
    {
      "cell_type": "code",
      "metadata": {
        "id": "7VXc5duf4041"
      },
      "source": [
        "LD_X, trans_mat = LDA(X0X1, X0, X1, 1)"
      ],
      "execution_count": 12,
      "outputs": []
    },
    {
      "cell_type": "code",
      "metadata": {
        "id": "HJ8Bn0NGQPMu"
      },
      "source": [
        "class0 = LD_X[:389]\n",
        "class1 = LD_X[389:]"
      ],
      "execution_count": 13,
      "outputs": []
    },
    {
      "cell_type": "code",
      "metadata": {
        "id": "cORcUhbZ8BxP"
      },
      "source": [
        "test0 = np.dot(test0, trans_mat)[:,:1]\n",
        "test1 = np.dot(test1, trans_mat)[:,:1]"
      ],
      "execution_count": 14,
      "outputs": []
    },
    {
      "cell_type": "code",
      "metadata": {
        "colab": {
          "base_uri": "https://localhost:8080/",
          "height": 374
        },
        "id": "QVD7BU608Bzn",
        "outputId": "c6a64ad1-289c-4a46-dd5e-680b8816e228"
      },
      "source": [
        "plt.figure(figsize= (6, 6))\n",
        "\n",
        "plt.scatter(class0[:,0], range(len(class0[:,0])))\n",
        "plt.scatter(class1[:,0], range(len(class1[:,0])))\n",
        "\n",
        "plt.scatter(test0[:,0], range(len(test0[:,0])))\n",
        "plt.scatter(test1[:,0], range(len(test1[:,0])))\n",
        "\n",
        "plt.legend(['train-0', 'train-1', 'test-0', 'test-1'])\n",
        "plt.show()"
      ],
      "execution_count": 15,
      "outputs": [
        {
          "output_type": "display_data",
          "data": {
            "image/png": "[encoded data removed]",
            "text/plain": [
              "<Figure size 432x432 with 1 Axes>"
            ]
          },
          "metadata": {
            "tags": [],
            "needs_background": "light"
          }
        }
      ]
    },
    {
      "cell_type": "code",
      "metadata": {
        "colab": {
          "base_uri": "https://localhost:8080/"
        },
        "id": "Dnk6GTiS8B2A",
        "outputId": "79c6c785-08d2-4361-963c-5f9c7047d9b1"
      },
      "source": [
        "# square root of sum of square of distances\n",
        "\n",
        "print('Predictions for the male test points:\\n')\n",
        "\n",
        "q2_pred_test1 = []\n",
        "\n",
        "for samp in test0:\n",
        "\n",
        "    q2_pred_test1.append(np.sqrt(np.sum(np.square(class0 - samp))) < np.sqrt(np.sum(np.square(class1 - samp))))\n",
        "    print('The predition is', np.sqrt(np.sum(np.square(class0 - samp))) < np.sqrt(np.sum(np.square(class1 - samp))))\n",
        "\n",
        "q2_pred_test1 = np.stack(q2_pred_test1) * 1\n",
        "\n",
        "print('\\n-------------------')\n",
        "print('\\nPredictions for the female test points:\\n')\n",
        "\n",
        "q2_pred_test2 = []\n",
        "\n",
        "for samp in test1:\n",
        "    \n",
        "    q2_pred_test2.append(np.sqrt(np.sum(np.square(class0 - samp))) > np.sqrt(np.sum(np.square(class1 - samp))))\n",
        "    print('The predition is', np.sqrt(np.sum(np.square(class0 - samp))) > np.sqrt(np.sum(np.square(class1 - samp))))\n",
        "\n",
        "q2_pred_test2 = np.stack(q2_pred_test2) * 1\n",
        "\n",
        "q2_indices_one = q2_pred_test2 == 1\n",
        "q2_indices_zero = q2_pred_test2 == 0\n",
        "q2_pred_test2[q2_indices_one] = 0\n",
        "q2_pred_test2[q2_indices_zero] = 1\n"
      ],
      "execution_count": 16,
      "outputs": [
        {
          "output_type": "stream",
          "text": [
            "Predictions for the male test points:\n",
            "\n",
            "The predition is True\n",
            "The predition is True\n",
            "The predition is True\n",
            "The predition is True\n",
            "The predition is True\n",
            "The predition is True\n",
            "The predition is True\n",
            "The predition is True\n",
            "The predition is True\n",
            "The predition is True\n",
            "\n",
            "-------------------\n",
            "\n",
            "Predictions for the female test points:\n",
            "\n",
            "The predition is False\n",
            "The predition is False\n",
            "The predition is True\n",
            "The predition is True\n",
            "The predition is True\n",
            "The predition is True\n",
            "The predition is True\n",
            "The predition is True\n",
            "The predition is True\n",
            "The predition is True\n"
          ],
          "name": "stdout"
        }
      ]
    },
    {
      "cell_type": "markdown",
      "metadata": {
        "id": "76bxwjQeLJI9"
      },
      "source": [
        "\n",
        "\n",
        "---\n",
        "\n"
      ]
    },
    {
      "cell_type": "markdown",
      "metadata": {
        "id": "kszXJM_5Hxyr"
      },
      "source": [
        "## Question 3"
      ]
    },
    {
      "cell_type": "code",
      "metadata": {
        "id": "LEJ6PYR1R4Gs"
      },
      "source": [
        "def confusion_matrix(pred, true):\n",
        "    \n",
        "    true_pos = 0\n",
        "    true_neg = 0\n",
        "    false_pos = 0\n",
        "    false_neg = 0\n",
        "\n",
        "    for i in range(len(pred)):\n",
        "        \n",
        "        if pred[i] == true[i]:\n",
        "         \n",
        "            if pred[i] == 1:\n",
        "                true_pos += 1\n",
        "            else:\n",
        "                true_neg += 1\n",
        "        else:\n",
        "\n",
        "            if pred[i] == 1 and true[i] == 0:\n",
        "                false_pos += 1\n",
        "            else:\n",
        "                false_neg += 1\n",
        "\n",
        "    return true_pos, true_neg, false_pos, false_neg"
      ],
      "execution_count": 17,
      "outputs": []
    },
    {
      "cell_type": "code",
      "metadata": {
        "id": "Udv8U_RkU8RU"
      },
      "source": [
        "q1_pred_test = np.concatenate((q1_pred_test1, q1_pred_test2), axis = 0)\n",
        "\n",
        "q1_orig1 = np.ones(len(q1_pred_test1))\n",
        "q1_orig2 = np.zeros(len(q1_pred_test2))\n",
        "q1_orig = np.concatenate((q1_orig1, q1_orig2), axis = 0)\n",
        "\n",
        "q1_true_pos, q1_true_neg, q1_false_pos, q1_false_neg = confusion_matrix(q1_pred_test, q1_orig)"
      ],
      "execution_count": 18,
      "outputs": []
    },
    {
      "cell_type": "code",
      "metadata": {
        "colab": {
          "base_uri": "https://localhost:8080/"
        },
        "id": "9bUnBreUTXVJ",
        "outputId": "ba87f600-48d4-4d47-fc15-5ee5b5f40189"
      },
      "source": [
        "q1_acc = (q1_true_pos + q1_true_neg)/(q1_true_pos + q1_true_neg + q1_false_pos + q1_false_neg)\n",
        "q1_prec = (q1_true_pos)/(q1_true_pos + q1_false_pos)\n",
        "q1_rec = (q1_true_pos)/(q1_true_pos + q1_false_neg)\n",
        "q1_f1 = 2 * q1_prec * q1_rec / (q1_prec + q1_rec)\n",
        "\n",
        "print('Question 1 report')\n",
        "print('Accuracy =', round(q1_acc, 3))\n",
        "print('Precision =', round(q1_prec, 3))\n",
        "print('Recall = ', round(q1_rec, 3))\n",
        "print('F1 Score = ', round(q1_f1, 3))"
      ],
      "execution_count": 19,
      "outputs": [
        {
          "output_type": "stream",
          "text": [
            "Question 1 report\n",
            "Accuracy = 0.85\n",
            "Precision = 0.818\n",
            "Recall =  0.9\n",
            "F1 Score =  0.857\n"
          ],
          "name": "stdout"
        }
      ]
    },
    {
      "cell_type": "code",
      "metadata": {
        "id": "Cm3BdaSG8MAV"
      },
      "source": [
        "q2_pred_test = np.concatenate((q2_pred_test1, q2_pred_test2), axis = 0)\n",
        "\n",
        "q2_orig1 = np.ones(len(q2_pred_test1))\n",
        "q2_orig2 = np.zeros(len(q2_pred_test2))\n",
        "q2_orig = np.concatenate((q2_orig1, q2_orig2), axis = 0)\n",
        "\n",
        "q2_true_pos, q2_true_neg, q2_false_pos, q2_false_neg = confusion_matrix(q2_pred_test, q2_orig)"
      ],
      "execution_count": 20,
      "outputs": []
    },
    {
      "cell_type": "code",
      "metadata": {
        "colab": {
          "base_uri": "https://localhost:8080/"
        },
        "id": "xGqM9QXd8MLk",
        "outputId": "dfed903c-f557-479d-99f9-32119566fdab"
      },
      "source": [
        "q2_acc = (q2_true_pos + q2_true_neg)/(q2_true_pos + q2_true_neg + q2_false_pos + q2_false_neg)\n",
        "q2_prec = (q2_true_pos)/(q2_true_pos + q2_false_pos)\n",
        "q2_rec = (q2_true_pos)/(q2_true_pos + q2_false_neg)\n",
        "q2_f1 = 2 * q2_prec * q2_rec / (q2_prec + q2_rec)\n",
        "\n",
        "print('Question 2 report')\n",
        "print('Accuracy =', round(q2_acc, 3))\n",
        "print('Precision =', round(q2_prec, 3))\n",
        "print('Recall = ', round(q2_rec, 3))\n",
        "print('F1 Score = ', round(q2_f1, 3))"
      ],
      "execution_count": 21,
      "outputs": [
        {
          "output_type": "stream",
          "text": [
            "Question 2 report\n",
            "Accuracy = 0.9\n",
            "Precision = 0.833\n",
            "Recall =  1.0\n",
            "F1 Score =  0.909\n"
          ],
          "name": "stdout"
        }
      ]
    },
    {
      "cell_type": "markdown",
      "metadata": {
        "id": "Rgxi6XVbLVL9"
      },
      "source": [
        "\n",
        "\n",
        "---\n",
        "\n"
      ]
    },
    {
      "cell_type": "markdown",
      "metadata": {
        "id": "wLl4UACwL6Bh"
      },
      "source": [
        "## Question 4"
      ]
    },
    {
      "cell_type": "code",
      "metadata": {
        "colab": {
          "base_uri": "https://localhost:8080/",
          "height": 253
        },
        "id": "IhrDBgWRL-jH",
        "outputId": "b10ef394-792f-4c87-fb48-25c1a1496469"
      },
      "source": [
        "df1 = pd.read_csv('/content/drive/MyDrive/PR/face.csv')\n",
        "df1.head()"
      ],
      "execution_count": 22,
      "outputs": [
        {
          "output_type": "execute_result",
          "data": {
            "text/html": [
              "<div>\n",
              "<style scoped>\n",
              "    .dataframe tbody tr th:only-of-type {\n",
              "        vertical-align: middle;\n",
              "    }\n",
              "\n",
              "    .dataframe tbody tr th {\n",
              "        vertical-align: top;\n",
              "    }\n",
              "\n",
              "    .dataframe thead th {\n",
              "        text-align: right;\n",
              "    }\n",
              "</style>\n",
              "<table border=\"1\" class=\"dataframe\">\n",
              "  <thead>\n",
              "    <tr style=\"text-align: right;\">\n",
              "      <th></th>\n",
              "      <th>0</th>\n",
              "      <th>1</th>\n",
              "      <th>2</th>\n",
              "      <th>3</th>\n",
              "      <th>4</th>\n",
              "      <th>5</th>\n",
              "      <th>6</th>\n",
              "      <th>7</th>\n",
              "      <th>8</th>\n",
              "      <th>9</th>\n",
              "      <th>10</th>\n",
              "      <th>11</th>\n",
              "      <th>12</th>\n",
              "      <th>13</th>\n",
              "      <th>14</th>\n",
              "      <th>15</th>\n",
              "      <th>16</th>\n",
              "      <th>17</th>\n",
              "      <th>18</th>\n",
              "      <th>19</th>\n",
              "      <th>20</th>\n",
              "      <th>21</th>\n",
              "      <th>22</th>\n",
              "      <th>23</th>\n",
              "      <th>24</th>\n",
              "      <th>25</th>\n",
              "      <th>26</th>\n",
              "      <th>27</th>\n",
              "      <th>28</th>\n",
              "      <th>29</th>\n",
              "      <th>30</th>\n",
              "      <th>31</th>\n",
              "      <th>32</th>\n",
              "      <th>33</th>\n",
              "      <th>34</th>\n",
              "      <th>35</th>\n",
              "      <th>36</th>\n",
              "      <th>37</th>\n",
              "      <th>38</th>\n",
              "      <th>39</th>\n",
              "      <th>...</th>\n",
              "      <th>4057</th>\n",
              "      <th>4058</th>\n",
              "      <th>4059</th>\n",
              "      <th>4060</th>\n",
              "      <th>4061</th>\n",
              "      <th>4062</th>\n",
              "      <th>4063</th>\n",
              "      <th>4064</th>\n",
              "      <th>4065</th>\n",
              "      <th>4066</th>\n",
              "      <th>4067</th>\n",
              "      <th>4068</th>\n",
              "      <th>4069</th>\n",
              "      <th>4070</th>\n",
              "      <th>4071</th>\n",
              "      <th>4072</th>\n",
              "      <th>4073</th>\n",
              "      <th>4074</th>\n",
              "      <th>4075</th>\n",
              "      <th>4076</th>\n",
              "      <th>4077</th>\n",
              "      <th>4078</th>\n",
              "      <th>4079</th>\n",
              "      <th>4080</th>\n",
              "      <th>4081</th>\n",
              "      <th>4082</th>\n",
              "      <th>4083</th>\n",
              "      <th>4084</th>\n",
              "      <th>4085</th>\n",
              "      <th>4086</th>\n",
              "      <th>4087</th>\n",
              "      <th>4088</th>\n",
              "      <th>4089</th>\n",
              "      <th>4090</th>\n",
              "      <th>4091</th>\n",
              "      <th>4092</th>\n",
              "      <th>4093</th>\n",
              "      <th>4094</th>\n",
              "      <th>4095</th>\n",
              "      <th>target</th>\n",
              "    </tr>\n",
              "  </thead>\n",
              "  <tbody>\n",
              "    <tr>\n",
              "      <th>0</th>\n",
              "      <td>0.309917</td>\n",
              "      <td>0.367769</td>\n",
              "      <td>0.417355</td>\n",
              "      <td>0.442149</td>\n",
              "      <td>0.528926</td>\n",
              "      <td>0.607438</td>\n",
              "      <td>0.657025</td>\n",
              "      <td>0.677686</td>\n",
              "      <td>0.690083</td>\n",
              "      <td>0.685950</td>\n",
              "      <td>0.702479</td>\n",
              "      <td>0.698347</td>\n",
              "      <td>0.694215</td>\n",
              "      <td>0.698347</td>\n",
              "      <td>0.690083</td>\n",
              "      <td>0.694215</td>\n",
              "      <td>0.690083</td>\n",
              "      <td>0.698347</td>\n",
              "      <td>0.702479</td>\n",
              "      <td>0.702479</td>\n",
              "      <td>0.698347</td>\n",
              "      <td>0.706612</td>\n",
              "      <td>0.710744</td>\n",
              "      <td>0.719008</td>\n",
              "      <td>0.727273</td>\n",
              "      <td>0.756198</td>\n",
              "      <td>0.772727</td>\n",
              "      <td>0.776860</td>\n",
              "      <td>0.776860</td>\n",
              "      <td>0.756198</td>\n",
              "      <td>0.760331</td>\n",
              "      <td>0.780992</td>\n",
              "      <td>0.760331</td>\n",
              "      <td>0.768595</td>\n",
              "      <td>0.756198</td>\n",
              "      <td>0.739669</td>\n",
              "      <td>0.743802</td>\n",
              "      <td>0.739669</td>\n",
              "      <td>0.743802</td>\n",
              "      <td>0.719008</td>\n",
              "      <td>...</td>\n",
              "      <td>0.752066</td>\n",
              "      <td>0.694215</td>\n",
              "      <td>0.690083</td>\n",
              "      <td>0.681818</td>\n",
              "      <td>0.681818</td>\n",
              "      <td>0.657025</td>\n",
              "      <td>0.648760</td>\n",
              "      <td>0.636364</td>\n",
              "      <td>0.632231</td>\n",
              "      <td>0.636364</td>\n",
              "      <td>0.623967</td>\n",
              "      <td>0.619835</td>\n",
              "      <td>0.644628</td>\n",
              "      <td>0.681818</td>\n",
              "      <td>0.685950</td>\n",
              "      <td>0.677686</td>\n",
              "      <td>0.681818</td>\n",
              "      <td>0.673554</td>\n",
              "      <td>0.665289</td>\n",
              "      <td>0.632231</td>\n",
              "      <td>0.582645</td>\n",
              "      <td>0.541322</td>\n",
              "      <td>0.537190</td>\n",
              "      <td>0.537190</td>\n",
              "      <td>0.553719</td>\n",
              "      <td>0.570248</td>\n",
              "      <td>0.611570</td>\n",
              "      <td>0.632231</td>\n",
              "      <td>0.657025</td>\n",
              "      <td>0.665289</td>\n",
              "      <td>0.669422</td>\n",
              "      <td>0.652893</td>\n",
              "      <td>0.661157</td>\n",
              "      <td>0.475207</td>\n",
              "      <td>0.132231</td>\n",
              "      <td>0.148760</td>\n",
              "      <td>0.152893</td>\n",
              "      <td>0.161157</td>\n",
              "      <td>0.157025</td>\n",
              "      <td>0</td>\n",
              "    </tr>\n",
              "    <tr>\n",
              "      <th>1</th>\n",
              "      <td>0.454545</td>\n",
              "      <td>0.471074</td>\n",
              "      <td>0.512397</td>\n",
              "      <td>0.557851</td>\n",
              "      <td>0.595041</td>\n",
              "      <td>0.640496</td>\n",
              "      <td>0.681818</td>\n",
              "      <td>0.702479</td>\n",
              "      <td>0.710744</td>\n",
              "      <td>0.702479</td>\n",
              "      <td>0.710744</td>\n",
              "      <td>0.698347</td>\n",
              "      <td>0.702479</td>\n",
              "      <td>0.706612</td>\n",
              "      <td>0.706612</td>\n",
              "      <td>0.714876</td>\n",
              "      <td>0.714876</td>\n",
              "      <td>0.706612</td>\n",
              "      <td>0.698347</td>\n",
              "      <td>0.714876</td>\n",
              "      <td>0.698347</td>\n",
              "      <td>0.723140</td>\n",
              "      <td>0.731405</td>\n",
              "      <td>0.743802</td>\n",
              "      <td>0.756198</td>\n",
              "      <td>0.772727</td>\n",
              "      <td>0.768595</td>\n",
              "      <td>0.785124</td>\n",
              "      <td>0.764463</td>\n",
              "      <td>0.756198</td>\n",
              "      <td>0.731405</td>\n",
              "      <td>0.743802</td>\n",
              "      <td>0.735537</td>\n",
              "      <td>0.719008</td>\n",
              "      <td>0.706612</td>\n",
              "      <td>0.714876</td>\n",
              "      <td>0.719008</td>\n",
              "      <td>0.710744</td>\n",
              "      <td>0.710744</td>\n",
              "      <td>0.706612</td>\n",
              "      <td>...</td>\n",
              "      <td>0.661157</td>\n",
              "      <td>0.652893</td>\n",
              "      <td>0.628099</td>\n",
              "      <td>0.632231</td>\n",
              "      <td>0.644628</td>\n",
              "      <td>0.640496</td>\n",
              "      <td>0.628099</td>\n",
              "      <td>0.632231</td>\n",
              "      <td>0.636364</td>\n",
              "      <td>0.628099</td>\n",
              "      <td>0.619835</td>\n",
              "      <td>0.619835</td>\n",
              "      <td>0.603306</td>\n",
              "      <td>0.590909</td>\n",
              "      <td>0.561983</td>\n",
              "      <td>0.516529</td>\n",
              "      <td>0.533058</td>\n",
              "      <td>0.578512</td>\n",
              "      <td>0.570248</td>\n",
              "      <td>0.561983</td>\n",
              "      <td>0.557851</td>\n",
              "      <td>0.545455</td>\n",
              "      <td>0.111570</td>\n",
              "      <td>0.095041</td>\n",
              "      <td>0.152893</td>\n",
              "      <td>0.152893</td>\n",
              "      <td>0.128099</td>\n",
              "      <td>0.136364</td>\n",
              "      <td>0.132231</td>\n",
              "      <td>0.136364</td>\n",
              "      <td>0.157025</td>\n",
              "      <td>0.136364</td>\n",
              "      <td>0.148760</td>\n",
              "      <td>0.152893</td>\n",
              "      <td>0.152893</td>\n",
              "      <td>0.152893</td>\n",
              "      <td>0.152893</td>\n",
              "      <td>0.152893</td>\n",
              "      <td>0.152893</td>\n",
              "      <td>0</td>\n",
              "    </tr>\n",
              "    <tr>\n",
              "      <th>2</th>\n",
              "      <td>0.318182</td>\n",
              "      <td>0.400826</td>\n",
              "      <td>0.491736</td>\n",
              "      <td>0.528926</td>\n",
              "      <td>0.586777</td>\n",
              "      <td>0.657025</td>\n",
              "      <td>0.681818</td>\n",
              "      <td>0.685950</td>\n",
              "      <td>0.702479</td>\n",
              "      <td>0.698347</td>\n",
              "      <td>0.702479</td>\n",
              "      <td>0.706612</td>\n",
              "      <td>0.706612</td>\n",
              "      <td>0.714876</td>\n",
              "      <td>0.710744</td>\n",
              "      <td>0.706612</td>\n",
              "      <td>0.706612</td>\n",
              "      <td>0.706612</td>\n",
              "      <td>0.723140</td>\n",
              "      <td>0.719008</td>\n",
              "      <td>0.719008</td>\n",
              "      <td>0.710744</td>\n",
              "      <td>0.710744</td>\n",
              "      <td>0.752066</td>\n",
              "      <td>0.756198</td>\n",
              "      <td>0.764463</td>\n",
              "      <td>0.785124</td>\n",
              "      <td>0.797521</td>\n",
              "      <td>0.838843</td>\n",
              "      <td>0.826446</td>\n",
              "      <td>0.842975</td>\n",
              "      <td>0.847107</td>\n",
              "      <td>0.830578</td>\n",
              "      <td>0.818182</td>\n",
              "      <td>0.793388</td>\n",
              "      <td>0.768595</td>\n",
              "      <td>0.760331</td>\n",
              "      <td>0.756198</td>\n",
              "      <td>0.739669</td>\n",
              "      <td>0.710744</td>\n",
              "      <td>...</td>\n",
              "      <td>0.714876</td>\n",
              "      <td>0.706612</td>\n",
              "      <td>0.685950</td>\n",
              "      <td>0.665289</td>\n",
              "      <td>0.652893</td>\n",
              "      <td>0.644628</td>\n",
              "      <td>0.636364</td>\n",
              "      <td>0.623967</td>\n",
              "      <td>0.636364</td>\n",
              "      <td>0.657025</td>\n",
              "      <td>0.644628</td>\n",
              "      <td>0.677686</td>\n",
              "      <td>0.681818</td>\n",
              "      <td>0.690083</td>\n",
              "      <td>0.690083</td>\n",
              "      <td>0.690083</td>\n",
              "      <td>0.681818</td>\n",
              "      <td>0.661157</td>\n",
              "      <td>0.652893</td>\n",
              "      <td>0.636364</td>\n",
              "      <td>0.586777</td>\n",
              "      <td>0.545455</td>\n",
              "      <td>0.570248</td>\n",
              "      <td>0.607438</td>\n",
              "      <td>0.603306</td>\n",
              "      <td>0.595041</td>\n",
              "      <td>0.578512</td>\n",
              "      <td>0.607438</td>\n",
              "      <td>0.413223</td>\n",
              "      <td>0.074380</td>\n",
              "      <td>0.132231</td>\n",
              "      <td>0.181818</td>\n",
              "      <td>0.136364</td>\n",
              "      <td>0.128099</td>\n",
              "      <td>0.148760</td>\n",
              "      <td>0.144628</td>\n",
              "      <td>0.140496</td>\n",
              "      <td>0.148760</td>\n",
              "      <td>0.152893</td>\n",
              "      <td>0</td>\n",
              "    </tr>\n",
              "    <tr>\n",
              "      <th>3</th>\n",
              "      <td>0.198347</td>\n",
              "      <td>0.194215</td>\n",
              "      <td>0.194215</td>\n",
              "      <td>0.194215</td>\n",
              "      <td>0.190083</td>\n",
              "      <td>0.190083</td>\n",
              "      <td>0.243802</td>\n",
              "      <td>0.404959</td>\n",
              "      <td>0.483471</td>\n",
              "      <td>0.516529</td>\n",
              "      <td>0.537190</td>\n",
              "      <td>0.566116</td>\n",
              "      <td>0.574380</td>\n",
              "      <td>0.586777</td>\n",
              "      <td>0.611570</td>\n",
              "      <td>0.632231</td>\n",
              "      <td>0.640496</td>\n",
              "      <td>0.657025</td>\n",
              "      <td>0.673554</td>\n",
              "      <td>0.694215</td>\n",
              "      <td>0.702479</td>\n",
              "      <td>0.719008</td>\n",
              "      <td>0.727273</td>\n",
              "      <td>0.719008</td>\n",
              "      <td>0.723140</td>\n",
              "      <td>0.710744</td>\n",
              "      <td>0.739669</td>\n",
              "      <td>0.747934</td>\n",
              "      <td>0.756198</td>\n",
              "      <td>0.756198</td>\n",
              "      <td>0.764463</td>\n",
              "      <td>0.772727</td>\n",
              "      <td>0.785124</td>\n",
              "      <td>0.785124</td>\n",
              "      <td>0.805785</td>\n",
              "      <td>0.818182</td>\n",
              "      <td>0.805785</td>\n",
              "      <td>0.809917</td>\n",
              "      <td>0.793388</td>\n",
              "      <td>0.789256</td>\n",
              "      <td>...</td>\n",
              "      <td>0.442149</td>\n",
              "      <td>0.479339</td>\n",
              "      <td>0.512397</td>\n",
              "      <td>0.537190</td>\n",
              "      <td>0.557851</td>\n",
              "      <td>0.566116</td>\n",
              "      <td>0.586777</td>\n",
              "      <td>0.586777</td>\n",
              "      <td>0.615702</td>\n",
              "      <td>0.632231</td>\n",
              "      <td>0.661157</td>\n",
              "      <td>0.681818</td>\n",
              "      <td>0.673554</td>\n",
              "      <td>0.714876</td>\n",
              "      <td>0.710744</td>\n",
              "      <td>0.706612</td>\n",
              "      <td>0.690083</td>\n",
              "      <td>0.681818</td>\n",
              "      <td>0.623967</td>\n",
              "      <td>0.615702</td>\n",
              "      <td>0.586777</td>\n",
              "      <td>0.582645</td>\n",
              "      <td>0.578512</td>\n",
              "      <td>0.590909</td>\n",
              "      <td>0.590909</td>\n",
              "      <td>0.611570</td>\n",
              "      <td>0.628099</td>\n",
              "      <td>0.644628</td>\n",
              "      <td>0.657025</td>\n",
              "      <td>0.652893</td>\n",
              "      <td>0.636364</td>\n",
              "      <td>0.657025</td>\n",
              "      <td>0.685950</td>\n",
              "      <td>0.727273</td>\n",
              "      <td>0.743802</td>\n",
              "      <td>0.764463</td>\n",
              "      <td>0.752066</td>\n",
              "      <td>0.752066</td>\n",
              "      <td>0.739669</td>\n",
              "      <td>0</td>\n",
              "    </tr>\n",
              "    <tr>\n",
              "      <th>4</th>\n",
              "      <td>0.500000</td>\n",
              "      <td>0.545455</td>\n",
              "      <td>0.582645</td>\n",
              "      <td>0.623967</td>\n",
              "      <td>0.648760</td>\n",
              "      <td>0.690083</td>\n",
              "      <td>0.694215</td>\n",
              "      <td>0.714876</td>\n",
              "      <td>0.723140</td>\n",
              "      <td>0.731405</td>\n",
              "      <td>0.739669</td>\n",
              "      <td>0.739669</td>\n",
              "      <td>0.764463</td>\n",
              "      <td>0.756198</td>\n",
              "      <td>0.764463</td>\n",
              "      <td>0.785124</td>\n",
              "      <td>0.793388</td>\n",
              "      <td>0.797521</td>\n",
              "      <td>0.814050</td>\n",
              "      <td>0.809917</td>\n",
              "      <td>0.809917</td>\n",
              "      <td>0.818182</td>\n",
              "      <td>0.830578</td>\n",
              "      <td>0.830578</td>\n",
              "      <td>0.842975</td>\n",
              "      <td>0.838843</td>\n",
              "      <td>0.838843</td>\n",
              "      <td>0.838843</td>\n",
              "      <td>0.830578</td>\n",
              "      <td>0.818182</td>\n",
              "      <td>0.805785</td>\n",
              "      <td>0.801653</td>\n",
              "      <td>0.797521</td>\n",
              "      <td>0.793388</td>\n",
              "      <td>0.793388</td>\n",
              "      <td>0.785124</td>\n",
              "      <td>0.797521</td>\n",
              "      <td>0.801653</td>\n",
              "      <td>0.793388</td>\n",
              "      <td>0.793388</td>\n",
              "      <td>...</td>\n",
              "      <td>0.557851</td>\n",
              "      <td>0.574380</td>\n",
              "      <td>0.595041</td>\n",
              "      <td>0.599174</td>\n",
              "      <td>0.611570</td>\n",
              "      <td>0.623967</td>\n",
              "      <td>0.636364</td>\n",
              "      <td>0.669422</td>\n",
              "      <td>0.681818</td>\n",
              "      <td>0.698347</td>\n",
              "      <td>0.698347</td>\n",
              "      <td>0.714876</td>\n",
              "      <td>0.710744</td>\n",
              "      <td>0.764463</td>\n",
              "      <td>0.756198</td>\n",
              "      <td>0.785124</td>\n",
              "      <td>0.797521</td>\n",
              "      <td>0.739669</td>\n",
              "      <td>0.714876</td>\n",
              "      <td>0.681818</td>\n",
              "      <td>0.619835</td>\n",
              "      <td>0.293388</td>\n",
              "      <td>0.144628</td>\n",
              "      <td>0.152893</td>\n",
              "      <td>0.152893</td>\n",
              "      <td>0.157025</td>\n",
              "      <td>0.148760</td>\n",
              "      <td>0.161157</td>\n",
              "      <td>0.161157</td>\n",
              "      <td>0.190083</td>\n",
              "      <td>0.161157</td>\n",
              "      <td>0.177686</td>\n",
              "      <td>0.173554</td>\n",
              "      <td>0.177686</td>\n",
              "      <td>0.177686</td>\n",
              "      <td>0.177686</td>\n",
              "      <td>0.177686</td>\n",
              "      <td>0.173554</td>\n",
              "      <td>0.173554</td>\n",
              "      <td>0</td>\n",
              "    </tr>\n",
              "  </tbody>\n",
              "</table>\n",
              "<p>5 rows × 4097 columns</p>\n",
              "</div>"
            ],
            "text/plain": [
              "          0         1         2         3  ...      4093      4094      4095  target\n",
              "0  0.309917  0.367769  0.417355  0.442149  ...  0.152893  0.161157  0.157025       0\n",
              "1  0.454545  0.471074  0.512397  0.557851  ...  0.152893  0.152893  0.152893       0\n",
              "2  0.318182  0.400826  0.491736  0.528926  ...  0.140496  0.148760  0.152893       0\n",
              "3  0.198347  0.194215  0.194215  0.194215  ...  0.752066  0.752066  0.739669       0\n",
              "4  0.500000  0.545455  0.582645  0.623967  ...  0.177686  0.173554  0.173554       0\n",
              "\n",
              "[5 rows x 4097 columns]"
            ]
          },
          "metadata": {
            "tags": []
          },
          "execution_count": 22
        }
      ]
    },
    {
      "cell_type": "code",
      "metadata": {
        "colab": {
          "base_uri": "https://localhost:8080/",
          "height": 413
        },
        "id": "mXf5cnWdME7t",
        "outputId": "79da740c-8860-48d5-c799-1ab189e98f71"
      },
      "source": [
        "X = np.array(df1.drop('target', axis = 1))\n",
        "\n",
        "PC_X = PCA(X)"
      ],
      "execution_count": 23,
      "outputs": [
        {
          "output_type": "stream",
          "text": [
            "Eigen value shape : (4096,) Eigen vector shape : (4096, 4096)\n",
            "New axis count : 121\n"
          ],
          "name": "stdout"
        },
        {
          "output_type": "display_data",
          "data": {
            "image/png": "[encoded data removed]",
            "text/plain": [
              "<Figure size 3960x936 with 1 Axes>"
            ]
          },
          "metadata": {
            "tags": [],
            "needs_background": "light"
          }
        }
      ]
    },
    {
      "cell_type": "code",
      "metadata": {
        "id": "ortW7kEsMbye",
        "colab": {
          "base_uri": "https://localhost:8080/",
          "height": 374
        },
        "outputId": "26755f2f-7c09-4396-ad87-d7b8f6a95886"
      },
      "source": [
        "plt.figure(figsize= (6, 6))\n",
        "\n",
        "for i in range(0, len(PC_X), 10):\n",
        "    \n",
        "    plt.scatter(PC_X[i:i+10,0], PC_X[i:i+10,1])\n",
        "\n",
        "#plt.legend(['train' + str(i) for i in range(len(PC_X))])\n",
        "plt.show()"
      ],
      "execution_count": 24,
      "outputs": [
        {
          "output_type": "display_data",
          "data": {
            "image/png": "[encoded data removed]",
            "text/plain": [
              "<Figure size 432x432 with 1 Axes>"
            ]
          },
          "metadata": {
            "tags": [],
            "needs_background": "light"
          }
        }
      ]
    },
    {
      "cell_type": "code",
      "metadata": {
        "colab": {
          "base_uri": "https://localhost:8080/"
        },
        "id": "m1qxNcS9RIjU",
        "outputId": "0ccc30e6-a65a-4039-e45e-79c0b2244c79"
      },
      "source": [
        "test = PC_X[np.arange(0, len(PC_X)) % 10 == 0]\n",
        "train = PC_X[np.arange(0, len(PC_X)) % 10 != 0]\n",
        "\n",
        "print('\\nShape of train :', train.shape, 'Shape of test :', test.shape)"
      ],
      "execution_count": 25,
      "outputs": [
        {
          "output_type": "stream",
          "text": [
            "\n",
            "Shape of train : (360, 121) Shape of test : (40, 121)\n"
          ],
          "name": "stdout"
        }
      ]
    },
    {
      "cell_type": "code",
      "metadata": {
        "colab": {
          "base_uri": "https://localhost:8080/"
        },
        "id": "rNA11c2uUmzI",
        "outputId": "20f5267c-69a7-4dfd-e8ee-ff8eadcb20c0"
      },
      "source": [
        "result = []\n",
        "predicted = []\n",
        "\n",
        "for j,samp in enumerate(test):\n",
        "\n",
        "    distances = []\n",
        "\n",
        "    d = np.sum((train - samp)**2, axis = 1)\n",
        "\n",
        "    for i in range(0, len(d), 9):\n",
        "        distances.append(np.sum(d[i:i+9]))\n",
        "    \n",
        "    result.append(np.argmin(np.stack(distances)) == j)\n",
        "    predicted.append(np.argmin(np.stack(distances)))\n",
        "    \n",
        "    print('Test class->', j, '|', predicted[j], '<-Predicted class')\n",
        "\n",
        "print('----------------------------------------------')\n",
        "print('Accuracy :', np.sum(np.stack(result))/len(test))"
      ],
      "execution_count": 26,
      "outputs": [
        {
          "output_type": "stream",
          "text": [
            "Test class-> 0 | 17 <-Predicted class\n",
            "Test class-> 1 | 1 <-Predicted class\n",
            "Test class-> 2 | 24 <-Predicted class\n",
            "Test class-> 3 | 3 <-Predicted class\n",
            "Test class-> 4 | 4 <-Predicted class\n",
            "Test class-> 5 | 5 <-Predicted class\n",
            "Test class-> 6 | 6 <-Predicted class\n",
            "Test class-> 7 | 10 <-Predicted class\n",
            "Test class-> 8 | 8 <-Predicted class\n",
            "Test class-> 9 | 24 <-Predicted class\n",
            "Test class-> 10 | 10 <-Predicted class\n",
            "Test class-> 11 | 11 <-Predicted class\n",
            "Test class-> 12 | 12 <-Predicted class\n",
            "Test class-> 13 | 13 <-Predicted class\n",
            "Test class-> 14 | 14 <-Predicted class\n",
            "Test class-> 15 | 23 <-Predicted class\n",
            "Test class-> 16 | 8 <-Predicted class\n",
            "Test class-> 17 | 17 <-Predicted class\n",
            "Test class-> 18 | 18 <-Predicted class\n",
            "Test class-> 19 | 29 <-Predicted class\n",
            "Test class-> 20 | 29 <-Predicted class\n",
            "Test class-> 21 | 21 <-Predicted class\n",
            "Test class-> 22 | 17 <-Predicted class\n",
            "Test class-> 23 | 23 <-Predicted class\n",
            "Test class-> 24 | 24 <-Predicted class\n",
            "Test class-> 25 | 25 <-Predicted class\n",
            "Test class-> 26 | 26 <-Predicted class\n",
            "Test class-> 27 | 27 <-Predicted class\n",
            "Test class-> 28 | 38 <-Predicted class\n",
            "Test class-> 29 | 29 <-Predicted class\n",
            "Test class-> 30 | 20 <-Predicted class\n",
            "Test class-> 31 | 31 <-Predicted class\n",
            "Test class-> 32 | 32 <-Predicted class\n",
            "Test class-> 33 | 33 <-Predicted class\n",
            "Test class-> 34 | 29 <-Predicted class\n",
            "Test class-> 35 | 35 <-Predicted class\n",
            "Test class-> 36 | 36 <-Predicted class\n",
            "Test class-> 37 | 37 <-Predicted class\n",
            "Test class-> 38 | 38 <-Predicted class\n",
            "Test class-> 39 | 8 <-Predicted class\n",
            "----------------------------------------------\n",
            "Accuracy : 0.675\n"
          ],
          "name": "stdout"
        }
      ]
    },
    {
      "cell_type": "markdown",
      "metadata": {
        "id": "BgZRlsGbLZuo"
      },
      "source": [
        "\n",
        "\n",
        "---\n",
        "\n"
      ]
    },
    {
      "cell_type": "markdown",
      "metadata": {
        "id": "GOlokd1f3xH6"
      },
      "source": [
        "## Question 5"
      ]
    },
    {
      "cell_type": "code",
      "metadata": {
        "id": "mATLDHDR4cYP"
      },
      "source": [
        "old_feat = []\n",
        "test = []\n",
        "\n",
        "for i in range(0, len(X), 10):\n",
        "    old_feat.append(X[i:i+9])\n",
        "    test.append(X[i+9])\n",
        "\n",
        "test = np.stack(test)"
      ],
      "execution_count": 27,
      "outputs": []
    },
    {
      "cell_type": "code",
      "metadata": {
        "id": "mg_VWBvF5z4H"
      },
      "source": [
        "def LDA_multiclass(train, d_dash):\n",
        "    \n",
        "    mean = []\n",
        "\n",
        "    for vals in train:\n",
        "        mean.append(np.average(vals, axis = 0))\n",
        "\n",
        "    mean = np.stack(mean)\n",
        "\n",
        "    # Within class scatter matrix\n",
        "\n",
        "    Sw = np.zeros((len(mean[0]), len(mean[0])))\n",
        "\n",
        "    for i, vals in enumerate(train):\n",
        "        for rows in vals:\n",
        "\n",
        "            subbed = (rows - mean[i]).reshape((len(mean[i]), 1))\n",
        "            dotted = np.dot(subbed, subbed.T)\n",
        "            Sw += dotted    \n",
        "\n",
        "    Sb = np.zeros((len(mean[0]), len(mean[0])))\n",
        "\n",
        "    for i,m in enumerate(mean):\n",
        "        subbed = (m - np.average(mean, axis = 0)).reshape((len(m), 1))\n",
        "        Sb += len(train[i]) * np.dot(subbed, subbed.T)\n",
        "\n",
        "\n",
        "    e_val, e_vec = np.linalg.eigh(np.dot(np.linalg.inv(Sw), Sb))\n",
        "\n",
        "    sorted_e_val = np.flip(np.sort(e_val))\n",
        "    sorted_e_vec = e_vec.copy()\n",
        "\n",
        "    for dummy, val in enumerate(sorted_e_val):\n",
        "\n",
        "        ind = np.argmax(e_val == val * 1)\n",
        "        sorted_e_vec[:,dummy] = e_vec[:,ind]\n",
        "\n",
        "    new_feat = np.dot(X, sorted_e_vec)\n",
        "\n",
        "\n",
        "    return new_feat[:,:d_dash], sorted_e_vec\n"
      ],
      "execution_count": 28,
      "outputs": []
    },
    {
      "cell_type": "code",
      "metadata": {
        "id": "kXhL0Z_Z9MTn"
      },
      "source": [
        "new_feat, transform_mat = LDA_multiclass(old_feat, 39)"
      ],
      "execution_count": 29,
      "outputs": []
    },
    {
      "cell_type": "code",
      "metadata": {
        "id": "aez8YjAm9bdY",
        "colab": {
          "base_uri": "https://localhost:8080/",
          "height": 374
        },
        "outputId": "6bbc1550-1fb7-4667-a7db-aeed98a7a80b"
      },
      "source": [
        "train = []\n",
        "new_test = []\n",
        "\n",
        "plt.figure(figsize= (6, 6))\n",
        "\n",
        "for i,j in enumerate(range(0, len(new_feat), 10)):\n",
        "    \n",
        "    train.append(new_feat[j:j+9]) \n",
        "    plt.scatter(train[i][:,0], train[i][:,1])\n",
        "\n",
        "    new_test.append(np.dot(test[i], transform_mat)[:39])\n",
        "    plt.scatter(new_test[i][0], new_test[i][1])\n",
        "\n",
        "test = np.stack(new_test)\n",
        "plt.show()"
      ],
      "execution_count": 30,
      "outputs": [
        {
          "output_type": "display_data",
          "data": {
            "image/png": "[encoded data removed]",
            "text/plain": [
              "<Figure size 432x432 with 1 Axes>"
            ]
          },
          "metadata": {
            "tags": []
          }
        }
      ]
    },
    {
      "cell_type": "code",
      "metadata": {
        "id": "_oOKTbXqAw1n",
        "colab": {
          "base_uri": "https://localhost:8080/"
        },
        "outputId": "ffeb3606-bcb5-44f5-f0f2-6bdc9df6edac"
      },
      "source": [
        "result = []\n",
        "predicted = []\n",
        "\n",
        "for i, samp in enumerate(test):\n",
        "\n",
        "    distances = []\n",
        "\n",
        "    for points in train:\n",
        "        d = np.sum(np.sum((points-samp)**2, axis = 1))\n",
        "        distances.append(d)\n",
        "\n",
        "    result.append(np.argmin(np.stack(distances)) == i)\n",
        "    predicted.append(np.argmin(np.stack(distances)))\n",
        "    \n",
        "    print('Test class->', i, '|', predicted[i], '<-Predicted class')\n",
        "\n",
        "\n",
        "print('----------------------------------------------')\n",
        "print('Accuracy :', np.sum(np.stack(result))/len(test))\n"
      ],
      "execution_count": 31,
      "outputs": [
        {
          "output_type": "stream",
          "text": [
            "Test class-> 0 | 37 <-Predicted class\n",
            "Test class-> 1 | 1 <-Predicted class\n",
            "Test class-> 2 | 24 <-Predicted class\n",
            "Test class-> 3 | 14 <-Predicted class\n",
            "Test class-> 4 | 5 <-Predicted class\n",
            "Test class-> 5 | 5 <-Predicted class\n",
            "Test class-> 6 | 6 <-Predicted class\n",
            "Test class-> 7 | 7 <-Predicted class\n",
            "Test class-> 8 | 8 <-Predicted class\n",
            "Test class-> 9 | 17 <-Predicted class\n",
            "Test class-> 10 | 10 <-Predicted class\n",
            "Test class-> 11 | 4 <-Predicted class\n",
            "Test class-> 12 | 12 <-Predicted class\n",
            "Test class-> 13 | 13 <-Predicted class\n",
            "Test class-> 14 | 14 <-Predicted class\n",
            "Test class-> 15 | 15 <-Predicted class\n",
            "Test class-> 16 | 16 <-Predicted class\n",
            "Test class-> 17 | 17 <-Predicted class\n",
            "Test class-> 18 | 18 <-Predicted class\n",
            "Test class-> 19 | 20 <-Predicted class\n",
            "Test class-> 20 | 20 <-Predicted class\n",
            "Test class-> 21 | 21 <-Predicted class\n",
            "Test class-> 22 | 17 <-Predicted class\n",
            "Test class-> 23 | 23 <-Predicted class\n",
            "Test class-> 24 | 24 <-Predicted class\n",
            "Test class-> 25 | 24 <-Predicted class\n",
            "Test class-> 26 | 26 <-Predicted class\n",
            "Test class-> 27 | 27 <-Predicted class\n",
            "Test class-> 28 | 38 <-Predicted class\n",
            "Test class-> 29 | 29 <-Predicted class\n",
            "Test class-> 30 | 30 <-Predicted class\n",
            "Test class-> 31 | 31 <-Predicted class\n",
            "Test class-> 32 | 32 <-Predicted class\n",
            "Test class-> 33 | 33 <-Predicted class\n",
            "Test class-> 34 | 4 <-Predicted class\n",
            "Test class-> 35 | 35 <-Predicted class\n",
            "Test class-> 36 | 36 <-Predicted class\n",
            "Test class-> 37 | 37 <-Predicted class\n",
            "Test class-> 38 | 38 <-Predicted class\n",
            "Test class-> 39 | 12 <-Predicted class\n",
            "----------------------------------------------\n",
            "Accuracy : 0.7\n"
          ],
          "name": "stdout"
        }
      ]
    },
    {
      "cell_type": "code",
      "metadata": {
        "id": "yoeb4DORRaxJ"
      },
      "source": [
        ""
      ],
      "execution_count": 31,
      "outputs": []
    }
  ]
}